{
 "cells": [
  {
   "cell_type": "code",
   "execution_count": 1,
   "metadata": {},
   "outputs": [],
   "source": [
    "from PIL import Image\n",
    "import pytesseract as tess\n",
    "from pytesseract import image_to_string \n",
    "\n",
    "tess.pytesseract.tesseract_cmd = r'C:\\Program Files\\Tesseract-OCR\\tesseract.exe'"
   ]
  },
  {
   "cell_type": "code",
   "execution_count": 6,
   "metadata": {},
   "outputs": [
    {
     "name": "stdout",
     "output_type": "stream",
     "text": [
      "Step 1 - Write down what you know:\n",
      "Ax =24m\n",
      "At = 2.35\n",
      "\n",
      "‘Where m = meters and s = seconds\n",
      "\n",
      "Step 2 - Insert what you know into the formula:\n",
      "\n",
      "<\n",
      "\"\n",
      "FE\n",
      "\n",
      "i\n",
      "OB\n",
      "\n",
      "Step 3 - Solve:\n",
      "\n",
      "v= 10.43 m/s north\n"
     ]
    }
   ],
   "source": [
    "\n",
    "img = Image.open(r\"C:\\Users\\Mahad Shbeeb\\Desktop\\203300-388x412-average-velocity.jpg\")\n",
    "text = tess.image_to_string(img)\n",
    "print(text)\n",
    "\n",
    "# print(pytesseract.image_to_pdf_or_hocr('IMG_20191208_161726.jpg', lang='ara', extension='pdf'))\n",
    "# print(pytesseract.image_to_string('IMG_20191208_161726.jpg',lang='ara'))"
   ]
  },
  {
   "cell_type": "code",
   "execution_count": null,
   "metadata": {},
   "outputs": [],
   "source": []
  }
 ],
 "metadata": {
  "kernelspec": {
   "display_name": "Python 3",
   "language": "python",
   "name": "python3"
  },
  "language_info": {
   "codemirror_mode": {
    "name": "ipython",
    "version": 3
   },
   "file_extension": ".py",
   "mimetype": "text/x-python",
   "name": "python",
   "nbconvert_exporter": "python",
   "pygments_lexer": "ipython3",
   "version": "3.6.6"
  }
 },
 "nbformat": 4,
 "nbformat_minor": 2
}
