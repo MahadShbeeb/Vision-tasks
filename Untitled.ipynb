{
 "cells": [
  {
   "cell_type": "code",
   "execution_count": 45,
   "metadata": {},
   "outputs": [],
   "source": [
    "# تبديل كل الروابط والصور بفراغ\n",
    "def normalizeTweets(text):\n",
    "    #  ب  https حفنا الروابط الي بتبدأ #https\\S+\n",
    "    result = re.sub(r'https\\S+',' ', text)\n",
    "    # حذفنا الروابط الي بتبدأ ب http # http\\S+\n",
    "    result = re.sub(r'http\\S+',' ', result)\n",
    "    # حذفنا  الروابط الي بتبلش ب pic  يعني الصور \n",
    "    result = re.sub(r'pic\\S+',' ', result)\n",
    "    return(result)"
   ]
  },
  {
   "cell_type": "markdown",
   "metadata": {},
   "source": [
    "<!-- تنظيف الداتا من الرموز والاقواس والفواصل وتغيير الاحرف -->"
   ]
  },
  {
   "cell_type": "code",
   "execution_count": 46,
   "metadata": {},
   "outputs": [],
   "source": [
    "# تنظيف الداتا من التكرار والرموز \n",
    "def normalizeLetters(text):\n",
    "    # حذفنا كلشي عدا الكلمات والارقام والفراغات\n",
    "    result = re.sub(r\"[^\\d\\s\\w]\", \"\", text)\n",
    "    #  @,;/(){}\\[\\]\\|حفنا كلشي اقواس و فواصل وسلاشات  \n",
    "    result = re.sub(r\"[@,;/(){}\\[\\]\\|]\", \" \", result)\n",
    "    # حذفنا كل الرموز من \\n , \\r\n",
    "    result = re.sub(r\"\\n|\\r\", \"\", result)\n",
    "    #بدلنا كل ة من ه \n",
    "    result = re.sub(\"ة\", \"ه\", result)\n",
    "    # بدلنا جميع اشكال حرف الالف لالف مدودة غير مهموزة\n",
    "    result = re.sub(\"[أآ]\", \"ا\", result)\n",
    "    # بدلنا كل ي ب ى\n",
    "    result = re.sub(\"ى\", \"ي\", result)\n",
    "    # حذفنا الاحرف المكررة\n",
    "    result = re.sub(r'(.)\\1+', r'\\1', result)\n",
    "    return(result)\n"
   ]
  },
  {
   "cell_type": "markdown",
   "metadata": {},
   "source": [
    "# ايجاد الهاشتاغات في التويتات\n"
   ]
  },
  {
   "cell_type": "code",
   "execution_count": 47,
   "metadata": {},
   "outputs": [],
   "source": [
    "def hashtags(text): \n",
    "    # #(\\w+) بحثنا ضمن التوتية عن \n",
    "    # اي بحثنا عن كل هاشتاغ والكلمات التالية\n",
    "    text=re.findall(r\"#(\\w+)\", text)\n",
    "    return text"
   ]
  },
  {
   "cell_type": "markdown",
   "metadata": {},
   "source": [
    "# ايجاد اليبل pos/neg في كل تويتة واستخراجه\n"
   ]
  },
  {
   "cell_type": "code",
   "execution_count": 48,
   "metadata": {},
   "outputs": [],
   "source": [
    "# ايجاد اليبل pos/neg في كل تويتة واستخراجه\n",
    "def labeling(text):\n",
    "    # عملنا بحث ضمن التويتة على كلمة pos/neg \n",
    "    #حيث اخنا كل تويتة lower\n",
    "    result = re.search(r'pos', text.lower())\n",
    "    result1 = re.search(r'neg', text.lower())\n",
    "    # نرد neg/pos\n",
    "    if result !=None:\n",
    "        return(result.group(0))\n",
    "    elif result1 !=None:\n",
    "        return(result1.group(0))\n"
   ]
  },
  {
   "cell_type": "code",
   "execution_count": 49,
   "metadata": {},
   "outputs": [],
   "source": [
    "from nltk.corpus import stopwords\n",
    "stop_words = set(stopwords.words('arabic'))\n"
   ]
  },
  {
   "cell_type": "markdown",
   "metadata": {},
   "source": [
    "# حذف stop words \n"
   ]
  },
  {
   "cell_type": "code",
   "execution_count": 50,
   "metadata": {},
   "outputs": [],
   "source": [
    "from nltk.tokenize import TreebankWordTokenizer\n",
    "tokenizer = TreebankWordTokenizer()\n",
    "\n",
    "def remove_stopwords(text):\n",
    "    #اخذنا النص المدخل كمصفوفة كلمات\n",
    "    words = tokenizer.tokenize(text)\n",
    "    #اخنا كل الكلمات ضمن المصفوفة عدا الكلمات التي تنتمي للستوب وورد\n",
    "    text =[w for w in words if w not in stop_words]\n",
    "    text=' '.join(text)\n",
    "    return text"
   ]
  },
  {
   "cell_type": "markdown",
   "metadata": {},
   "source": [
    "#  (test data) استخراج الليبل من كل تويت وتخزينها في مصفوفة \n"
   ]
  },
  {
   "cell_type": "code",
   "execution_count": 51,
   "metadata": {},
   "outputs": [
    {
     "name": "stdout",
     "output_type": "stream",
     "text": [
      "8706\n"
     ]
    }
   ],
   "source": [
    "import os\n",
    "import csv\n",
    "import re\n",
    "import nltk\n",
    "from nltk.tokenize import TreebankWordTokenizer\n",
    "tokenizer = TreebankWordTokenizer()\n",
    "\n",
    "tesing_data=[]\n",
    "directory = os.path.normpath(r\"C:\\Users\\Mahad Shbeeb\\Downloads\\Testing_Data\\Testing Data\")\n",
    "for subdir, dirs, files in os.walk(directory):\n",
    "    for file in files:\n",
    "        if file.endswith(\".txt\"):\n",
    "            f=open(os.path.join(subdir, file),'r', encoding=\"utf8\")\n",
    "            lines = f.readlines()\n",
    "            for i in lines:\n",
    "                text = re.sub(r\"POS|NEG|neg|pos\", \" \", i)\n",
    "                tesing_data.append((text,labeling(i)))\n",
    "                \n",
    "print(len(tesing_data))"
   ]
  },
  {
   "cell_type": "markdown",
   "metadata": {},
   "source": [
    "# تنظيف التيست داتا من التكرار\n"
   ]
  },
  {
   "cell_type": "code",
   "execution_count": 52,
   "metadata": {},
   "outputs": [
    {
     "name": "stdout",
     "output_type": "stream",
     "text": [
      "6257\n"
     ]
    }
   ],
   "source": [
    "# تنظيف التيست داتا من التكرار\n",
    "new_tesing_data = []\n",
    "for line in tesing_data:\n",
    "    if line in new_tesing_data:\n",
    "        continue\n",
    "    else:\n",
    "        new_tesing_data.append(line)\n",
    "print(len(new_tesing_data))"
   ]
  },
  {
   "cell_type": "markdown",
   "metadata": {},
   "source": [
    "# تنظيف الداتا من الروابط والرموز وكلمات التوقف\n"
   ]
  },
  {
   "cell_type": "code",
   "execution_count": 53,
   "metadata": {},
   "outputs": [
    {
     "name": "stdout",
     "output_type": "stream",
     "text": [
      "6190\n"
     ]
    }
   ],
   "source": [
    "# تنظيف الداتا من الروابط والرموز وكلمات التوقف\n",
    "clean_tesing_data=[]\n",
    "clean_tesing_data=[(remove_stopwords(normalizeLetters(normalizeTweets(i[0]))),i[1]) for i in new_tesing_data if i[1] !=None]\n",
    "# random.shuffle(clean_tesing_data)\n",
    "print(len(clean_tesing_data))"
   ]
  },
  {
   "cell_type": "markdown",
   "metadata": {},
   "source": [
    "# تخزيت الترين داتا وتخزينها في ملف csv\n"
   ]
  },
  {
   "cell_type": "code",
   "execution_count": 54,
   "metadata": {},
   "outputs": [
    {
     "name": "stdout",
     "output_type": "stream",
     "text": [
      "14520\n"
     ]
    }
   ],
   "source": [
    "# تخزيت الترين داتا وتخزينها في ملف csv\n",
    "training_data=[]\n",
    "with open('training_data.csv', mode='w', encoding=\"utf-8\") as csv_data:\n",
    "    directory = os.path.normpath(r\"C:\\Users\\Mahad Shbeeb\\Downloads\\Training_Data\\Training Data\")\n",
    "    for subdir, dirs, files in os.walk(directory):\n",
    "        for file in files:\n",
    "            if file.endswith(\".txt\"):\n",
    "                f=open(os.path.join(subdir, file),'r', encoding=\"utf8\")\n",
    "                lines = f.readlines()\n",
    "                for i in lines:\n",
    "                    training_data.append((i,labeling(i)))\n",
    "                    writer = csv.writer(csv_data, delimiter=',', quotechar='\"', quoting=csv.QUOTE_MINIMAL)\n",
    "                    writer.writerow([normalizeLetters(normalizeTweets(i))])\n",
    "\n",
    "                f.close()\n",
    "print(len(training_data))              "
   ]
  },
  {
   "cell_type": "code",
   "execution_count": 55,
   "metadata": {},
   "outputs": [
    {
     "data": {
      "text/html": [
       "<div>\n",
       "<style scoped>\n",
       "    .dataframe tbody tr th:only-of-type {\n",
       "        vertical-align: middle;\n",
       "    }\n",
       "\n",
       "    .dataframe tbody tr th {\n",
       "        vertical-align: top;\n",
       "    }\n",
       "\n",
       "    .dataframe thead th {\n",
       "        text-align: right;\n",
       "    }\n",
       "</style>\n",
       "<table border=\"1\" class=\"dataframe\">\n",
       "  <thead>\n",
       "    <tr style=\"text-align: right;\">\n",
       "      <th></th>\n",
       "      <th>سعوديات_نطلب_اسقاط_الولايه692 يجب ان تسقط الولايه رغم ان سقوطها وحده لا يكفي يحب ان يوفر الدعم لمراه في التعليم و العمل و تكوين اسرهPOS</th>\n",
       "    </tr>\n",
       "  </thead>\n",
       "  <tbody>\n",
       "    <tr>\n",
       "      <th>0</th>\n",
       "      <td>اصلا هذاتصرف في قمه الجهل في اوراق رسميه وشهاد...</td>\n",
       "    </tr>\n",
       "    <tr>\n",
       "      <th>1</th>\n",
       "      <td>سامي_الجابر نحن معك اذا كنت مع اسقاط الولايهPOS</td>\n",
       "    </tr>\n",
       "    <tr>\n",
       "      <th>2</th>\n",
       "      <td>اسقاط الولايه ماراح ياثر فيني بشكل كبير لاني م...</td>\n",
       "    </tr>\n",
       "    <tr>\n",
       "      <th>3</th>\n",
       "      <td>انا نسويه و عنصريه مع المساواه وضد فكره البنت ...</td>\n",
       "    </tr>\n",
       "    <tr>\n",
       "      <th>4</th>\n",
       "      <td>نا مع اسقاط الولايه 10 لكن في دي المرحله حتي ل...</td>\n",
       "    </tr>\n",
       "  </tbody>\n",
       "</table>\n",
       "</div>"
      ],
      "text/plain": [
       "  سعوديات_نطلب_اسقاط_الولايه692 يجب ان تسقط الولايه رغم ان سقوطها وحده لا يكفي يحب ان يوفر الدعم لمراه في التعليم و العمل و تكوين اسرهPOS\n",
       "0  اصلا هذاتصرف في قمه الجهل في اوراق رسميه وشهاد...                                                                                     \n",
       "1    سامي_الجابر نحن معك اذا كنت مع اسقاط الولايهPOS                                                                                     \n",
       "2  اسقاط الولايه ماراح ياثر فيني بشكل كبير لاني م...                                                                                     \n",
       "3  انا نسويه و عنصريه مع المساواه وضد فكره البنت ...                                                                                     \n",
       "4  نا مع اسقاط الولايه 10 لكن في دي المرحله حتي ل...                                                                                     "
      ]
     },
     "execution_count": 55,
     "metadata": {},
     "output_type": "execute_result"
    }
   ],
   "source": [
    "import pandas\n",
    "df = pandas.read_csv('training_data.csv')\n",
    "df.head()"
   ]
  },
  {
   "cell_type": "code",
   "execution_count": 56,
   "metadata": {},
   "outputs": [
    {
     "data": {
      "text/plain": [
       "pos    6792\n",
       "neg    6306\n",
       "Name: label, dtype: int64"
      ]
     },
     "execution_count": 56,
     "metadata": {},
     "output_type": "execute_result"
    }
   ],
   "source": [
    "df = pandas.read_csv('training_data.csv')\n",
    "df['reviews']=df\n",
    "df['label']=df['reviews'].apply(lambda review:labeling(str(review)))\n",
    "df['label'].value_counts()"
   ]
  },
  {
   "cell_type": "markdown",
   "metadata": {},
   "source": [
    "# تنظيف الترين داتا من التكرار\n"
   ]
  },
  {
   "cell_type": "code",
   "execution_count": 57,
   "metadata": {},
   "outputs": [],
   "source": [
    "# تنظيف الترين داتا من التكرار\n",
    "\n",
    "inFile = open('training_data.csv','r', encoding=\"utf-8\")\n",
    "outFile = open('clean_training_data.csv','w', encoding=\"utf-8\")\n",
    "\n",
    "listLines = []\n",
    "for line in inFile:\n",
    "    if line in listLines:\n",
    "        continue\n",
    "    else:\n",
    "        outFile.write(line)\n",
    "        listLines.append(line)\n",
    "\n",
    "outFile.close()\n",
    "inFile.close()"
   ]
  },
  {
   "cell_type": "code",
   "execution_count": 58,
   "metadata": {},
   "outputs": [
    {
     "data": {
      "text/html": [
       "<div>\n",
       "<style scoped>\n",
       "    .dataframe tbody tr th:only-of-type {\n",
       "        vertical-align: middle;\n",
       "    }\n",
       "\n",
       "    .dataframe tbody tr th {\n",
       "        vertical-align: top;\n",
       "    }\n",
       "\n",
       "    .dataframe thead th {\n",
       "        text-align: right;\n",
       "    }\n",
       "</style>\n",
       "<table border=\"1\" class=\"dataframe\">\n",
       "  <thead>\n",
       "    <tr style=\"text-align: right;\">\n",
       "      <th></th>\n",
       "      <th>سعوديات_نطلب_اسقاط_الولايه692 يجب ان تسقط الولايه رغم ان سقوطها وحده لا يكفي يحب ان يوفر الدعم لمراه في التعليم و العمل و تكوين اسرهPOS</th>\n",
       "    </tr>\n",
       "  </thead>\n",
       "  <tbody>\n",
       "    <tr>\n",
       "      <th>0</th>\n",
       "      <td>اصلا هذاتصرف في قمه الجهل في اوراق رسميه وشهاد...</td>\n",
       "    </tr>\n",
       "    <tr>\n",
       "      <th>1</th>\n",
       "      <td>سامي_الجابر نحن معك اذا كنت مع اسقاط الولايهPOS</td>\n",
       "    </tr>\n",
       "    <tr>\n",
       "      <th>2</th>\n",
       "      <td>اسقاط الولايه ماراح ياثر فيني بشكل كبير لاني م...</td>\n",
       "    </tr>\n",
       "    <tr>\n",
       "      <th>3</th>\n",
       "      <td>انا نسويه و عنصريه مع المساواه وضد فكره البنت ...</td>\n",
       "    </tr>\n",
       "    <tr>\n",
       "      <th>4</th>\n",
       "      <td>نا مع اسقاط الولايه 10 لكن في دي المرحله حتي ل...</td>\n",
       "    </tr>\n",
       "  </tbody>\n",
       "</table>\n",
       "</div>"
      ],
      "text/plain": [
       "  سعوديات_نطلب_اسقاط_الولايه692 يجب ان تسقط الولايه رغم ان سقوطها وحده لا يكفي يحب ان يوفر الدعم لمراه في التعليم و العمل و تكوين اسرهPOS\n",
       "0  اصلا هذاتصرف في قمه الجهل في اوراق رسميه وشهاد...                                                                                     \n",
       "1    سامي_الجابر نحن معك اذا كنت مع اسقاط الولايهPOS                                                                                     \n",
       "2  اسقاط الولايه ماراح ياثر فيني بشكل كبير لاني م...                                                                                     \n",
       "3  انا نسويه و عنصريه مع المساواه وضد فكره البنت ...                                                                                     \n",
       "4  نا مع اسقاط الولايه 10 لكن في دي المرحله حتي ل...                                                                                     "
      ]
     },
     "execution_count": 58,
     "metadata": {},
     "output_type": "execute_result"
    }
   ],
   "source": [
    "import pandas\n",
    "df = pandas.read_csv('clean_training_data.csv')\n",
    "df.head()"
   ]
  },
  {
   "cell_type": "code",
   "execution_count": 59,
   "metadata": {},
   "outputs": [
    {
     "data": {
      "text/html": [
       "<div>\n",
       "<style scoped>\n",
       "    .dataframe tbody tr th:only-of-type {\n",
       "        vertical-align: middle;\n",
       "    }\n",
       "\n",
       "    .dataframe tbody tr th {\n",
       "        vertical-align: top;\n",
       "    }\n",
       "\n",
       "    .dataframe thead th {\n",
       "        text-align: right;\n",
       "    }\n",
       "</style>\n",
       "<table border=\"1\" class=\"dataframe\">\n",
       "  <thead>\n",
       "    <tr style=\"text-align: right;\">\n",
       "      <th></th>\n",
       "      <th>سعوديات_نطلب_اسقاط_الولايه692 يجب ان تسقط الولايه رغم ان سقوطها وحده لا يكفي يحب ان يوفر الدعم لمراه في التعليم و العمل و تكوين اسرهPOS</th>\n",
       "      <th>reviews</th>\n",
       "      <th>label</th>\n",
       "    </tr>\n",
       "  </thead>\n",
       "  <tbody>\n",
       "    <tr>\n",
       "      <th>0</th>\n",
       "      <td>اصلا هذاتصرف في قمه الجهل في اوراق رسميه وشهاد...</td>\n",
       "      <td>اصلا هذاتصرف في قمه الجهل في اوراق رسميه وشهاد...</td>\n",
       "      <td>pos</td>\n",
       "    </tr>\n",
       "    <tr>\n",
       "      <th>1</th>\n",
       "      <td>سامي_الجابر نحن معك اذا كنت مع اسقاط الولايهPOS</td>\n",
       "      <td>سامي_الجابر نحن معك اذا كنت مع اسقاط الولايهPOS</td>\n",
       "      <td>pos</td>\n",
       "    </tr>\n",
       "    <tr>\n",
       "      <th>2</th>\n",
       "      <td>اسقاط الولايه ماراح ياثر فيني بشكل كبير لاني م...</td>\n",
       "      <td>اسقاط الولايه ماراح ياثر فيني بشكل كبير لاني م...</td>\n",
       "      <td>pos</td>\n",
       "    </tr>\n",
       "    <tr>\n",
       "      <th>3</th>\n",
       "      <td>انا نسويه و عنصريه مع المساواه وضد فكره البنت ...</td>\n",
       "      <td>انا نسويه و عنصريه مع المساواه وضد فكره البنت ...</td>\n",
       "      <td>pos</td>\n",
       "    </tr>\n",
       "    <tr>\n",
       "      <th>4</th>\n",
       "      <td>نا مع اسقاط الولايه 10 لكن في دي المرحله حتي ل...</td>\n",
       "      <td>نا مع اسقاط الولايه 10 لكن في دي المرحله حتي ل...</td>\n",
       "      <td>pos</td>\n",
       "    </tr>\n",
       "  </tbody>\n",
       "</table>\n",
       "</div>"
      ],
      "text/plain": [
       "  سعوديات_نطلب_اسقاط_الولايه692 يجب ان تسقط الولايه رغم ان سقوطها وحده لا يكفي يحب ان يوفر الدعم لمراه في التعليم و العمل و تكوين اسرهPOS  \\\n",
       "0  اصلا هذاتصرف في قمه الجهل في اوراق رسميه وشهاد...                                                                                        \n",
       "1    سامي_الجابر نحن معك اذا كنت مع اسقاط الولايهPOS                                                                                        \n",
       "2  اسقاط الولايه ماراح ياثر فيني بشكل كبير لاني م...                                                                                        \n",
       "3  انا نسويه و عنصريه مع المساواه وضد فكره البنت ...                                                                                        \n",
       "4  نا مع اسقاط الولايه 10 لكن في دي المرحله حتي ل...                                                                                        \n",
       "\n",
       "                                             reviews label  \n",
       "0  اصلا هذاتصرف في قمه الجهل في اوراق رسميه وشهاد...   pos  \n",
       "1    سامي_الجابر نحن معك اذا كنت مع اسقاط الولايهPOS   pos  \n",
       "2  اسقاط الولايه ماراح ياثر فيني بشكل كبير لاني م...   pos  \n",
       "3  انا نسويه و عنصريه مع المساواه وضد فكره البنت ...   pos  \n",
       "4  نا مع اسقاط الولايه 10 لكن في دي المرحله حتي ل...   pos  "
      ]
     },
     "execution_count": 59,
     "metadata": {},
     "output_type": "execute_result"
    }
   ],
   "source": [
    "df = pandas.read_csv('clean_training_data.csv')\n",
    "df['reviews']=df\n",
    "df['label']=df['reviews'].apply(lambda review:labeling(str(review)))\n",
    "df.head()"
   ]
  },
  {
   "cell_type": "code",
   "execution_count": 60,
   "metadata": {},
   "outputs": [],
   "source": [
    "df.dropna(inplace=True)"
   ]
  },
  {
   "cell_type": "markdown",
   "metadata": {},
   "source": [
    "#عدد الترين داتا السلبية منها والايجابية"
   ]
  },
  {
   "cell_type": "code",
   "execution_count": 61,
   "metadata": {},
   "outputs": [
    {
     "data": {
      "text/plain": [
       "pos    5403\n",
       "neg    4677\n",
       "Name: label, dtype: int64"
      ]
     },
     "execution_count": 61,
     "metadata": {},
     "output_type": "execute_result"
    }
   ],
   "source": [
    "df['label'].value_counts()"
   ]
  },
  {
   "cell_type": "markdown",
   "metadata": {},
   "source": [
    "#استخراج الترين داتا  من  csv file وتنظيفها \n"
   ]
  },
  {
   "cell_type": "code",
   "execution_count": 62,
   "metadata": {},
   "outputs": [
    {
     "name": "stdout",
     "output_type": "stream",
     "text": [
      "10080\n"
     ]
    }
   ],
   "source": [
    "#استخراج الترين داتا  من  csv file وتنظيفها \n",
    "import random\n",
    "\n",
    "data=[]\n",
    "data=[(remove_stopwords(normalizeLetters(normalizeTweets(i))),labeling(i)) for i in df['reviews'] if labeling(i) !=None]\n",
    "random.shuffle(data)\n",
    "print(len(data))"
   ]
  },
  {
   "cell_type": "markdown",
   "metadata": {},
   "source": [
    "#تقسيم الداتا \n"
   ]
  },
  {
   "cell_type": "code",
   "execution_count": 115,
   "metadata": {},
   "outputs": [],
   "source": [
    "#تقسيم الداتا \n",
    "training_set_size = int(len(data)*0.70)\n",
    "testing_set_size = int(len(clean_tesing_data)*0.70)\n",
    "\n",
    "\n",
    "X = [example[0] for example in data]\n",
    "y = [example[1] for example in data]\n",
    "\n",
    "X1 = [example[0] for example in clean_tesing_data]\n",
    "y1 = [example[1] for example in clean_tesing_data]\n",
    "\n",
    "X_train = X[:training_set_size]\n",
    "y_train = y[:training_set_size]\n",
    "\n",
    "X_test = X1[testing_set_size:]\n",
    "y_test = y1[testing_set_size:]\n"
   ]
  },
  {
   "cell_type": "markdown",
   "metadata": {},
   "source": [
    "# توابع BAG and  tfidf"
   ]
  },
  {
   "cell_type": "code",
   "execution_count": 116,
   "metadata": {},
   "outputs": [],
   "source": [
    "from sklearn.feature_extraction.text import CountVectorizer"
   ]
  },
  {
   "cell_type": "code",
   "execution_count": 117,
   "metadata": {},
   "outputs": [],
   "source": [
    "def bow_features(X_train, X_test):\n",
    "    \n",
    "    count_vectorizer = CountVectorizer()\n",
    "    X_train_Vec = count_vectorizer.fit_transform(X_train)\n",
    "    X_test_Vec = count_vectorizer.transform(X_test)\n",
    "    \n",
    "    return X_train_Vec, X_test_Vec, count_vectorizer"
   ]
  },
  {
   "cell_type": "code",
   "execution_count": 118,
   "metadata": {},
   "outputs": [],
   "source": [
    "X_train_bag, X_test_bag, bow_vocab = bow_features(X_train, X_test)"
   ]
  },
  {
   "cell_type": "code",
   "execution_count": 119,
   "metadata": {},
   "outputs": [
    {
     "data": {
      "text/plain": [
       "<7056x36839 sparse matrix of type '<class 'numpy.int64'>'\n",
       "\twith 145230 stored elements in Compressed Sparse Row format>"
      ]
     },
     "execution_count": 119,
     "metadata": {},
     "output_type": "execute_result"
    }
   ],
   "source": [
    "X_train_bag"
   ]
  },
  {
   "cell_type": "code",
   "execution_count": 120,
   "metadata": {},
   "outputs": [],
   "source": [
    "from sklearn.feature_extraction.text import TfidfVectorizer"
   ]
  },
  {
   "cell_type": "code",
   "execution_count": 121,
   "metadata": {},
   "outputs": [],
   "source": [
    "def tfidf_features(X_train, X_test):\n",
    "   \n",
    "    tfidf_vectorizer = TfidfVectorizer(min_df=2, max_df=0.5, ngram_range=(1, 2))\n",
    "    X_train = tfidf_vectorizer.fit_transform(X_train)\n",
    "    X_test = tfidf_vectorizer.transform(X_test)\n",
    "    \n",
    "    return X_train, X_test, tfidf_vectorizer"
   ]
  },
  {
   "cell_type": "code",
   "execution_count": 122,
   "metadata": {},
   "outputs": [],
   "source": [
    "X_train_tfidf, X_test_tfidf, tfidf_vocab = tfidf_features(X_train, X_test)"
   ]
  },
  {
   "cell_type": "code",
   "execution_count": 123,
   "metadata": {},
   "outputs": [],
   "source": [
    "from sklearn.multiclass import OneVsRestClassifier\n",
    "from sklearn.linear_model import LogisticRegression, RidgeClassifier\n",
    "def train_classifier(X_train, y_train):\n",
    "    classifier = RidgeClassifier()\n",
    "    classifier.fit(X_train, y_train)\n",
    "    return classifier"
   ]
  },
  {
   "cell_type": "code",
   "execution_count": 124,
   "metadata": {},
   "outputs": [],
   "source": [
    "classifier_bag = train_classifier(X_train_bag, y_train)\n",
    "classifier_tfidf = train_classifier(X_train_tfidf, y_train)\n"
   ]
  },
  {
   "cell_type": "markdown",
   "metadata": {},
   "source": [
    "#ادخال التويتة وعمل اختبار لها "
   ]
  },
  {
   "cell_type": "code",
   "execution_count": 132,
   "metadata": {},
   "outputs": [
    {
     "name": "stdout",
     "output_type": "stream",
     "text": [
      " enter your review :  سعوديات مع الولاية\n",
      "['neg']\n",
      "['neg']\n"
     ]
    }
   ],
   "source": [
    "y_test_predicted_labels_bag = classifier_bag.predict(X_test_bag)\n",
    "y_test_predicted_scores_bag = classifier_bag.decision_function(X_test_bag)\n",
    "\n",
    "y_test_predicted_labels_tfidf = classifier_tfidf.predict(X_test_tfidf)\n",
    "y_test_predicted_scores_tfidf = classifier_tfidf.decision_function(X_test_tfidf)\n",
    "\n",
    "text=input(' enter your review :  ')\n",
    "\n",
    "print(classifier_tfidf.predict(tfidf_vocab.transform([text])[0]))\n",
    "print(classifier_bag.predict(bow_vocab.transform([text])[0]))"
   ]
  },
  {
   "cell_type": "markdown",
   "metadata": {},
   "source": [
    "#حساب الاكيورسي لكلا النموذجين "
   ]
  },
  {
   "cell_type": "code",
   "execution_count": 31,
   "metadata": {},
   "outputs": [
    {
     "name": "stdout",
     "output_type": "stream",
     "text": [
      "Bag-of-words Accuracy: 0.7334410339256866\n",
      "Tfidf Accuracy: 0.789983844911147\n"
     ]
    }
   ],
   "source": [
    "from sklearn.metrics import accuracy_score\n",
    "\n",
    "print('Bag-of-words Accuracy: '+ str(accuracy_score(y_test, y_test_predicted_labels_bag)))\n",
    "print('Tfidf Accuracy: ' + str(accuracy_score(y_test, y_test_predicted_labels_tfidf)))\n"
   ]
  },
  {
   "cell_type": "code",
   "execution_count": 108,
   "metadata": {},
   "outputs": [],
   "source": [
    "training_set_size1 = int(len(training_data)*0.70)\n",
    "testing_set_size1 = int(len(tesing_data)*0.70)\n",
    "\n",
    "\n",
    "first_X = [example[0] for example in training_data]\n",
    "first_y = [example[1] for example in training_data if example[1] !=None]\n",
    "\n",
    "first_X1 = [example[0] for example in tesing_data]\n",
    "first_y1 = [example[1] for example in tesing_data if example[1] !=None]\n",
    "\n",
    "first_X_train = first_X[:training_set_size1]\n",
    "first_y_train = first_y[:training_set_size1]\n",
    "\n",
    "first_X_test = first_X1[:testing_set_size1]\n",
    "first_y_test = first_y1[:testing_set_size1]\n",
    "\n"
   ]
  },
  {
   "cell_type": "code",
   "execution_count": 109,
   "metadata": {},
   "outputs": [],
   "source": [
    "first_X_train_bag, first_X_test_bag, first_bow_vocab = bow_features(first_X_train, first_X_test)\n"
   ]
  },
  {
   "cell_type": "code",
   "execution_count": 110,
   "metadata": {},
   "outputs": [],
   "source": [
    "first_X_train_tfidf, first_X_test_tfidf, first_tfidf_vocab = tfidf_features(first_X_train, first_X_test)\n"
   ]
  },
  {
   "cell_type": "code",
   "execution_count": 111,
   "metadata": {},
   "outputs": [],
   "source": [
    "classifier_bag = train_classifier(first_X_train_bag, first_y_train)\n",
    "classifier_tfidf = train_classifier(first_X_train_tfidf, first_y_train)"
   ]
  },
  {
   "cell_type": "code",
   "execution_count": 112,
   "metadata": {},
   "outputs": [],
   "source": [
    "first_y_test_predicted_labels_bag = classifier_bag.predict(first_X_test_bag)\n",
    "first_y_test_predicted_scores_bag = classifier_bag.decision_function(first_X_test_bag)\n",
    "\n",
    "first_y_test_predicted_labels_tfidf = classifier_tfidf.predict(first_X_test_tfidf)\n",
    "first_y_test_predicted_scores_tfidf = classifier_tfidf.decision_function(first_X_test_tfidf)\n"
   ]
  },
  {
   "cell_type": "code",
   "execution_count": 113,
   "metadata": {},
   "outputs": [
    {
     "name": "stdout",
     "output_type": "stream",
     "text": [
      "Bag-of-words Accuracy For Row Data: 0.5196914998359041\n",
      "Tfidf Accuracy For Row Data: 0.5228093206432557\n"
     ]
    }
   ],
   "source": [
    "print('Bag-of-words Accuracy For Row Data: '+ str(accuracy_score(first_y_test, first_y_test_predicted_labels_bag)))\n",
    "print('Tfidf Accuracy For Row Data: ' + str(accuracy_score(first_y_test, first_y_test_predicted_labels_tfidf)))\n"
   ]
  },
  {
   "cell_type": "markdown",
   "metadata": {},
   "source": [
    "# حذف الهاشتاغات "
   ]
  },
  {
   "cell_type": "code",
   "execution_count": 88,
   "metadata": {},
   "outputs": [],
   "source": [
    "def remove_hashtags(text):\n",
    "    text=re.sub(r\"#(\\w+)\",' ',text)\n",
    "    #حذفنا رمز الهاشتاغ\n",
    "    text=re.sub(r\"#\",' ',text)\n",
    "    # حذفنا الكلمات بينها اندر سكور _\n",
    "    text=re.sub(r\"(\\w+)_(\\w+)\",' ',text)\n",
    "    return text"
   ]
  },
  {
   "cell_type": "code",
   "execution_count": 89,
   "metadata": {},
   "outputs": [
    {
     "name": "stdout",
     "output_type": "stream",
     "text": [
      "6190 10080\n"
     ]
    }
   ],
   "source": [
    "data_without_hashs=[]\n",
    "test_data_without_hashs=[]\n",
    "\n",
    "test_data_without_hashs=[(remove_hashtags(i[0]),i[1]) for i in clean_tesing_data ]\n",
    "data_without_hashs=[(remove_hashtags(i[0]),i[1]) for i in data ]\n",
    "\n",
    "print(len(test_data_without_hashs),len(data_without_hashs))"
   ]
  },
  {
   "cell_type": "code",
   "execution_count": 90,
   "metadata": {},
   "outputs": [],
   "source": [
    "training_set_size2 = int(len(data_without_hashs)*0.70)\n",
    "testing_set_size2 = int(len(test_data_without_hashs)*0.70)\n",
    "\n",
    "\n",
    "new_X = [example[0] for example in data_without_hashs]\n",
    "new_y = [example[1] for example in data_without_hashs]\n",
    "\n",
    "new_X1 = [example[0] for example in test_data_without_hashs]\n",
    "new_y1 = [example[1] for example in test_data_without_hashs]\n",
    "\n",
    "new_X_train = new_X[:training_set_size2]\n",
    "new_y_train = new_y[:training_set_size2]\n",
    "\n",
    "new_X_test = new_X1[:testing_set_size2]\n",
    "new_y_test = new_y1[:testing_set_size2]\n",
    "\n"
   ]
  },
  {
   "cell_type": "code",
   "execution_count": 91,
   "metadata": {},
   "outputs": [],
   "source": [
    "new_X_train_bag, new_X_test_bag, new_bow_vocab = bow_features(new_X_train, new_X_test)\n"
   ]
  },
  {
   "cell_type": "code",
   "execution_count": 92,
   "metadata": {},
   "outputs": [],
   "source": [
    "new_X_train_tfidf, new_X_test_tfidf, new_tfidf_vocab = tfidf_features(new_X_train, new_X_test)\n"
   ]
  },
  {
   "cell_type": "code",
   "execution_count": 93,
   "metadata": {},
   "outputs": [],
   "source": [
    "classifier_bag = train_classifier(new_X_train_bag, new_y_train)\n",
    "classifier_tfidf = train_classifier(new_X_train_tfidf, new_y_train)"
   ]
  },
  {
   "cell_type": "code",
   "execution_count": 94,
   "metadata": {},
   "outputs": [],
   "source": [
    "\n",
    "new_y_test_predicted_labels_bag = classifier_bag.predict(new_X_test_bag)\n",
    "new_y_test_predicted_scores_bag = classifier_bag.decision_function(new_X_test_bag)\n",
    "\n",
    "new_y_test_predicted_labels_tfidf = classifier_tfidf.predict(new_X_test_tfidf)\n",
    "new_y_test_predicted_scores_tfidf = classifier_tfidf.decision_function(new_X_test_tfidf)"
   ]
  },
  {
   "cell_type": "code",
   "execution_count": 95,
   "metadata": {},
   "outputs": [
    {
     "name": "stdout",
     "output_type": "stream",
     "text": [
      "Bag-of-words Accuracy without hashs: 0.7255942764828064\n",
      "Tfidf Accuracy without hashs: 0.7576736672051696\n"
     ]
    }
   ],
   "source": [
    "print('Bag-of-words Accuracy without hashs: '+ str(accuracy_score(new_y_test, new_y_test_predicted_labels_bag)))\n",
    "print('Tfidf Accuracy without hashs: ' + str(accuracy_score(new_y_test, new_y_test_predicted_labels_tfidf)))\n"
   ]
  },
  {
   "cell_type": "markdown",
   "metadata": {},
   "source": [
    "#تنظيف الهاشتاغات واستخراج النص"
   ]
  },
  {
   "cell_type": "code",
   "execution_count": 96,
   "metadata": {},
   "outputs": [],
   "source": [
    "def turn_hashtags_to_string(text):\n",
    "    #حذفنا # و _\n",
    "    text=re.sub(r\"#\",r' ',text)\n",
    "    text=re.sub(r\"_\",r' ',text)\n",
    "    return text"
   ]
  },
  {
   "cell_type": "code",
   "execution_count": 97,
   "metadata": {},
   "outputs": [],
   "source": [
    "data_turned_hashs=[]\n",
    "test_data_turned_hashs=[]\n",
    "\n",
    "test_data_turned_hashs=[(turn_hashtags_to_string(i[0]),i[1]) for i in clean_tesing_data]\n",
    "data_turned_hashs=[(turn_hashtags_to_string(i[0]),i[1]) for i in data]"
   ]
  },
  {
   "cell_type": "code",
   "execution_count": 98,
   "metadata": {},
   "outputs": [],
   "source": [
    "training_set_size3 = int(len(data_turned_hashs)*0.70)\n",
    "testing_set_size3 = int(len(test_data_turned_hashs)*0.70)\n",
    "\n",
    "\n",
    "last_X = [example[0] for example in data_turned_hashs]\n",
    "last_y = [example[1] for example in data_turned_hashs]\n",
    "\n",
    "last_X1 = [example[0] for example in test_data_turned_hashs]\n",
    "last_y1 = [example[1] for example in test_data_turned_hashs]\n",
    "\n",
    "last_X_train = last_X[:training_set_size3]\n",
    "last_y_train = last_y[:training_set_size3]\n",
    "\n",
    "last_X_test = last_X1[:testing_set_size3]\n",
    "last_y_test = last_y1[:testing_set_size3]\n"
   ]
  },
  {
   "cell_type": "code",
   "execution_count": 99,
   "metadata": {},
   "outputs": [],
   "source": [
    "last_X_train_bag, last_X_test_bag, last_bow_vocab = bow_features(last_X_train, last_X_test)\n"
   ]
  },
  {
   "cell_type": "code",
   "execution_count": 100,
   "metadata": {},
   "outputs": [],
   "source": [
    "last_X_train_tfidf, last_X_test_tfidf, last_tfidf_vocab = tfidf_features(last_X_train, last_X_test)\n"
   ]
  },
  {
   "cell_type": "code",
   "execution_count": 101,
   "metadata": {},
   "outputs": [],
   "source": [
    "classifier_bag = train_classifier(last_X_train_bag, last_y_train)\n",
    "classifier_tfidf = train_classifier(last_X_train_tfidf, last_y_train)"
   ]
  },
  {
   "cell_type": "code",
   "execution_count": 102,
   "metadata": {},
   "outputs": [],
   "source": [
    "last_y_test_predicted_labels_bag = classifier_bag.predict(last_X_test_bag)\n",
    "last_y_test_predicted_scores_bag = classifier_bag.decision_function(last_X_test_bag)\n",
    "\n",
    "last_y_test_predicted_labels_tfidf = classifier_tfidf.predict(last_X_test_tfidf)\n",
    "last_y_test_predicted_scores_tfidf = classifier_tfidf.decision_function(last_X_test_tfidf)"
   ]
  },
  {
   "cell_type": "code",
   "execution_count": 103,
   "metadata": {},
   "outputs": [
    {
     "name": "stdout",
     "output_type": "stream",
     "text": [
      "Bag-of-words Accuracy with turned hashs: 0.7484421878606047\n",
      "Tfidf Accuracy with turned hashs: 0.801061620124625\n"
     ]
    }
   ],
   "source": [
    "print('Bag-of-words Accuracy with turned hashs: '+ str(accuracy_score(last_y_test, last_y_test_predicted_labels_bag)))\n",
    "print('Tfidf Accuracy with turned hashs: ' + str(accuracy_score(last_y_test, last_y_test_predicted_labels_tfidf)))\n",
    "\n"
   ]
  },
  {
   "cell_type": "code",
   "execution_count": null,
   "metadata": {},
   "outputs": [],
   "source": []
  }
 ],
 "metadata": {
  "kernelspec": {
   "display_name": "Python 3",
   "language": "python",
   "name": "python3"
  },
  "language_info": {
   "codemirror_mode": {
    "name": "ipython",
    "version": 3
   },
   "file_extension": ".py",
   "mimetype": "text/x-python",
   "name": "python",
   "nbconvert_exporter": "python",
   "pygments_lexer": "ipython3",
   "version": "3.7.5"
  }
 },
 "nbformat": 4,
 "nbformat_minor": 2
}
